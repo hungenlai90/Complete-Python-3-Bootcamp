{
 "cells": [
  {
   "cell_type": "markdown",
   "metadata": {},
   "source": [
    "# Milestone Project 1: Walkthrough Steps Workbook\n",
    "\n",
    "Below is a set of steps for you to follow to try to create the Tic Tac Toe Milestone Project game!"
   ]
  },
  {
   "cell_type": "markdown",
   "metadata": {},
   "source": [
    "#### Some suggested tools before you get started:\n",
    "To take input from a user:\n",
    "\n",
    "    player1 = input(\"Please pick a marker 'X' or 'O'\")\n",
    "    \n",
    "Note that input() takes in a string. If you need an integer value, use\n",
    "\n",
    "    position = int(input('Please enter a number'))\n",
    "    \n",
    "<br>To clear the screen between moves:\n",
    "\n",
    "    from IPython.display import clear_output\n",
    "    clear_output()\n",
    "    \n",
    "Note that clear_output() will only work in jupyter. To clear the screen in other IDEs, consider:\n",
    "\n",
    "    print('\\n'*100)\n",
    "    \n",
    "This scrolls the previous board up out of view. Now on to the program!"
   ]
  },
  {
   "cell_type": "markdown",
   "metadata": {},
   "source": [
    "**Step 1: Write a function that can print out a board. Set up your board as a list, where each index 1-9 corresponds with a number on a number pad, so you get a 3 by 3 board representation.**"
   ]
  },
  {
   "cell_type": "code",
   "execution_count": 78,
   "metadata": {},
   "outputs": [],
   "source": [
    "from IPython.display import clear_output\n",
    "\n",
    "def display_board(board):\n",
    "    print(\"   |   |   \")\n",
    "    print(f\" {board[7]} | {board[8]} | {board[9]} \")\n",
    "    print(\"   |   |   \")\n",
    "    print(\"-----------\")\n",
    "    print(\"   |   |   \")\n",
    "    print(f\" {board[4]} | {board[5]} | {board[6]} \")\n",
    "    print(\"   |   |   \")\n",
    "    print(\"-----------\")\n",
    "    print(\"   |   |   \")\n",
    "    print(f\" {board[1]} | {board[2]} | {board[3]} \")\n",
    "    print(\"   |   |   \")"
   ]
  },
  {
   "cell_type": "markdown",
   "metadata": {},
   "source": [
    "**TEST Step 1:** run your function on a test version of the board list, and make adjustments as necessary"
   ]
  },
  {
   "cell_type": "code",
   "execution_count": null,
   "metadata": {},
   "outputs": [],
   "source": []
  },
  {
   "cell_type": "markdown",
   "metadata": {},
   "source": [
    "**Step 2: Write a function that can take in a player input and assign their marker as 'X' or 'O'. Think about using *while* loops to continually ask until you get a correct answer.**"
   ]
  },
  {
   "cell_type": "code",
   "execution_count": 79,
   "metadata": {},
   "outputs": [],
   "source": [
    "def player_input():\n",
    "    player1 = input(\"Player 1, please pick a marker 'X' or 'O'\")\n",
    "    while player1 not in ['X','O']:\n",
    "        print(\"Invalid choice. Please pick a marker 'X' or 'O'\")\n",
    "        player1 = input(\"Please pick a marker 'X' or 'O'\")\n",
    "    if player1 == 'X':\n",
    "        player2 = 'O'\n",
    "    else:\n",
    "        player2 = 'X'\n",
    "    print(f\"Player 1 will be {player1}, and Player 2 will be {player2}\")\n",
    "    return player1, player2\n",
    "\n",
    "\n"
   ]
  },
  {
   "cell_type": "markdown",
   "metadata": {},
   "source": [
    "**TEST Step 2:** run the function to make sure it returns the desired output"
   ]
  },
  {
   "cell_type": "code",
   "execution_count": null,
   "metadata": {},
   "outputs": [],
   "source": []
  },
  {
   "cell_type": "markdown",
   "metadata": {},
   "source": [
    "**Step 3: Write a function that takes in the board list object, a marker ('X' or 'O'), and a desired position (number 1-9) and assigns it to the board.**"
   ]
  },
  {
   "cell_type": "code",
   "execution_count": 80,
   "metadata": {},
   "outputs": [],
   "source": [
    "def place_marker(board, marker, position):\n",
    "    '''\n",
    "    board = a list of markers from 1 to 9 corresponding to each 3x3 squares\n",
    "    marker = a string, player1 or player2 (X or O)\n",
    "    position = an int, marking position of marker on board\n",
    "    \n",
    "    return a board object with updated list of markers\n",
    "    '''\n",
    "    board[position] = marker\n",
    "    return board\n"
   ]
  },
  {
   "cell_type": "markdown",
   "metadata": {},
   "source": [
    "**TEST Step 3:** run the place marker function using test parameters and display the modified board"
   ]
  },
  {
   "cell_type": "code",
   "execution_count": null,
   "metadata": {},
   "outputs": [],
   "source": []
  },
  {
   "cell_type": "markdown",
   "metadata": {},
   "source": [
    "**Step 4: Write a function that takes in a board and a mark (X or O) and then checks to see if that mark has won. **"
   ]
  },
  {
   "cell_type": "code",
   "execution_count": 81,
   "metadata": {},
   "outputs": [],
   "source": [
    "def win_check(board, mark):\n",
    "    playerwin = False\n",
    "    checklist = [board[0:3],board[4:7],board[7:10],board[1:8:3],board[2:9:3],board[3:10:3],board[1:10:4],board[3:8:2]]\n",
    "    for check in checklist:\n",
    "        if check == [mark]*3:\n",
    "            playerwin = True\n",
    "    return playerwin\n",
    "            "
   ]
  },
  {
   "cell_type": "markdown",
   "metadata": {},
   "source": [
    "**TEST Step 4:** run the win_check function against our test_board - it should return True"
   ]
  },
  {
   "cell_type": "code",
   "execution_count": null,
   "metadata": {},
   "outputs": [],
   "source": []
  },
  {
   "cell_type": "markdown",
   "metadata": {},
   "source": [
    "**Step 5: Write a function that uses the random module to randomly decide which player goes first. You may want to lookup random.randint() Return a string of which player went first.**"
   ]
  },
  {
   "cell_type": "code",
   "execution_count": 82,
   "metadata": {},
   "outputs": [],
   "source": [
    "import random\n",
    "\n",
    "def choose_first():\n",
    "    if random.random() < 0.5:\n",
    "        return \"Player1\"\n",
    "    else:\n",
    "        return \"Player2\""
   ]
  },
  {
   "cell_type": "markdown",
   "metadata": {},
   "source": [
    "**Step 6: Write a function that returns a boolean indicating whether a space on the board is freely available.**"
   ]
  },
  {
   "cell_type": "code",
   "execution_count": 83,
   "metadata": {},
   "outputs": [],
   "source": [
    "def space_check(board, position):\n",
    "    \n",
    "    return board[position] not in ['X', 'O']\n",
    "        "
   ]
  },
  {
   "cell_type": "markdown",
   "metadata": {},
   "source": [
    "**Step 7: Write a function that checks if the board is full and returns a boolean value. True if full, False otherwise.**"
   ]
  },
  {
   "cell_type": "code",
   "execution_count": 84,
   "metadata": {},
   "outputs": [],
   "source": [
    "def full_board_check(board):\n",
    "    \n",
    "    full = True\n",
    "    for ele in board[1:]:\n",
    "        if ele not in ['X', 'O']:\n",
    "            full = False\n",
    "    return full"
   ]
  },
  {
   "cell_type": "markdown",
   "metadata": {},
   "source": [
    "**Step 8: Write a function that asks for a player's next position (as a number 1-9) and then uses the function from step 6 to check if it's a free position. If it is, then return the position for later use.**"
   ]
  },
  {
   "cell_type": "code",
   "execution_count": 85,
   "metadata": {},
   "outputs": [],
   "source": [
    "def player_choice(board, player):\n",
    "    \n",
    "    while not full_board_check(board):\n",
    "        position = int(input(f\"{player}, please select a position on the board.\"))\n",
    "        if space_check(board, position):\n",
    "            return position\n",
    "            "
   ]
  },
  {
   "cell_type": "markdown",
   "metadata": {},
   "source": [
    "**Step 9: Write a function that asks the player if they want to play again and returns a boolean True if they do want to play again.**"
   ]
  },
  {
   "cell_type": "code",
   "execution_count": 86,
   "metadata": {},
   "outputs": [],
   "source": [
    "def replay():\n",
    "    while True:\n",
    "        res = input(\"Would you like to play again? [Y/N]\").upper()\n",
    "        if res == 'Y':\n",
    "            return True\n",
    "            break\n",
    "        elif res == \"N\":\n",
    "            return False\n",
    "            break\n",
    "        else:\n",
    "            print(\"Please indicate Y or N.\")\n",
    "    \n",
    "    "
   ]
  },
  {
   "cell_type": "markdown",
   "metadata": {},
   "source": [
    "**Step 10: Here comes the hard part! Use while loops and the functions you've made to run the game!**"
   ]
  },
  {
   "cell_type": "code",
   "execution_count": 87,
   "metadata": {},
   "outputs": [],
   "source": [
    "import random\n",
    "from IPython.display import clear_output\n",
    "\n",
    "def playtictactoe():\n",
    "    print('Welcome to Tic Tac Toe!')\n",
    "\n",
    "    board = list(range(10))\n",
    "    while True:\n",
    "        player1, player2 = player_input()\n",
    "        game_on = True\n",
    "        first = choose_first()\n",
    "        if first == \"Player1\":\n",
    "            print(\"Player 1 goes first.\")\n",
    "            player = player1\n",
    "        else:\n",
    "            print(\"Player 2 goes first.\")\n",
    "            player = player2\n",
    "\n",
    "        while not full_board_check(board):\n",
    "            display_board(board)\n",
    "            position = player_choice(board, player)\n",
    "            while position not in range(10):\n",
    "                print(\"Please select a number from 1 to 9.\")\n",
    "                position = player_choice(board)\n",
    "            place_marker(board, player, position)\n",
    "            \n",
    "            if win_check(board, player):\n",
    "                print(f\"{player} has won!\")\n",
    "                break\n",
    "            clear_output()\n",
    "            if player == player1:\n",
    "                player = player2\n",
    "            else: \n",
    "                player = player1\n",
    "        clear_output()\n",
    "        if not replay():\n",
    "            break\n",
    "        "
   ]
  },
  {
   "cell_type": "markdown",
   "metadata": {},
   "source": [
    "## Good Job!"
   ]
  },
  {
   "cell_type": "code",
   "execution_count": null,
   "metadata": {},
   "outputs": [
    {
     "name": "stdout",
     "output_type": "stream",
     "text": [
      "   |   |   \n",
      " 7 | 8 | 9 \n",
      "   |   |   \n",
      "-----------\n",
      "   |   |   \n",
      " 4 | O | X \n",
      "   |   |   \n",
      "-----------\n",
      "   |   |   \n",
      " 1 | O | X \n",
      "   |   |   \n"
     ]
    },
    {
     "name": "stdin",
     "output_type": "stream",
     "text": [
      "O, please select a position on the board. 8\n"
     ]
    },
    {
     "name": "stdout",
     "output_type": "stream",
     "text": [
      "O has won!\n"
     ]
    },
    {
     "name": "stdin",
     "output_type": "stream",
     "text": [
      "Would you like to play again? [Y/N] Y\n",
      "Player 1, please pick a marker 'X' or 'O' X\n"
     ]
    },
    {
     "name": "stdout",
     "output_type": "stream",
     "text": [
      "Player 1 will be X, and Player 2 will be O\n",
      "Player 1 goes first.\n",
      "   |   |   \n",
      " 7 | O | 9 \n",
      "   |   |   \n",
      "-----------\n",
      "   |   |   \n",
      " 4 | O | X \n",
      "   |   |   \n",
      "-----------\n",
      "   |   |   \n",
      " 1 | O | X \n",
      "   |   |   \n"
     ]
    }
   ],
   "source": [
    "playtictactoe()"
   ]
  },
  {
   "cell_type": "code",
   "execution_count": null,
   "metadata": {},
   "outputs": [],
   "source": []
  },
  {
   "cell_type": "code",
   "execution_count": null,
   "metadata": {},
   "outputs": [],
   "source": []
  },
  {
   "cell_type": "code",
   "execution_count": null,
   "metadata": {},
   "outputs": [],
   "source": []
  },
  {
   "cell_type": "code",
   "execution_count": null,
   "metadata": {},
   "outputs": [],
   "source": []
  },
  {
   "cell_type": "code",
   "execution_count": null,
   "metadata": {},
   "outputs": [],
   "source": []
  },
  {
   "cell_type": "code",
   "execution_count": null,
   "metadata": {},
   "outputs": [],
   "source": []
  },
  {
   "cell_type": "code",
   "execution_count": null,
   "metadata": {},
   "outputs": [],
   "source": []
  },
  {
   "cell_type": "code",
   "execution_count": null,
   "metadata": {},
   "outputs": [],
   "source": []
  },
  {
   "cell_type": "code",
   "execution_count": null,
   "metadata": {},
   "outputs": [],
   "source": []
  }
 ],
 "metadata": {
  "kernelspec": {
   "display_name": "Python 3.8.2 64-bit",
   "language": "python",
   "name": "python38264bitb76bfcae1d9e4b44bca9c2f840cea684"
  },
  "language_info": {
   "codemirror_mode": {
    "name": "ipython",
    "version": 3
   },
   "file_extension": ".py",
   "mimetype": "text/x-python",
   "name": "python",
   "nbconvert_exporter": "python",
   "pygments_lexer": "ipython3",
   "version": "3.8.2"
  }
 },
 "nbformat": 4,
 "nbformat_minor": 4
}
